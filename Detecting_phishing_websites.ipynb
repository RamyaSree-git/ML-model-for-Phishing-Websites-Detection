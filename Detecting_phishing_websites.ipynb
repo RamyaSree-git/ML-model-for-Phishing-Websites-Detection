{
 "cells": [
  {
   "cell_type": "code",
   "execution_count": 36,
   "metadata": {},
   "outputs": [],
   "source": [
    "# Load the required packages\n",
    "\n",
    "import pandas as pd\n",
    "import numpy as np \n",
    "import re\n",
    "\n",
    "from sklearn.model_selection import train_test_split\n",
    "\n",
    "from sklearn.tree import DecisionTreeClassifier\n",
    "from sklearn.ensemble import RandomForestClassifier\n",
    "from sklearn.linear_model import LogisticRegression\n",
    "from sklearn.neural_network import MLPClassifier\n",
    "from sklearn.naive_bayes import BernoulliNB\n",
    "from xgboost import XGBClassifier\n",
    "from sklearn.svm import SVC\n",
    "\n",
    "from sklearn import metrics\n",
    "from sklearn.metrics import r2_score\n",
    "from sklearn.metrics import accuracy_score\n",
    "from sklearn.metrics import confusion_matrix\n",
    "from sklearn.metrics import cohen_kappa_score\n",
    "from sklearn.metrics import mean_squared_error\n",
    "from sklearn.metrics import classification_report\n",
    "from sklearn.metrics import ConfusionMatrixDisplay\n",
    "from sklearn.metrics import precision_recall_curve\n",
    "from sklearn.model_selection import cross_val_score\n",
    "from sklearn.metrics import roc_curve, roc_auc_score\n",
    "from sklearn.metrics import plot_precision_recall_curve\n",
    "\n",
    "from sklearn.model_selection import GridSearchCV\n",
    "from sklearn.metrics import make_scorer\n",
    "\n",
    "# import the feature_extract file to perform feature extraction process\n",
    "%run feature_extraction.py\n",
    "from feature_extraction import FeatureExtract, PredictURL\n",
    "\n",
    "import pickle\n",
    "\n",
    "import seaborn as sns\n",
    "import matplotlib.pyplot as plt\n",
    "%matplotlib inline\n",
    "\n",
    "\n",
    "import timeit\n",
    "from math import sqrt"
   ]
  },
  {
   "cell_type": "markdown",
   "metadata": {},
   "source": [
    "## Loading the phishing dataset"
   ]
  },
  {
   "cell_type": "code",
   "execution_count": 2,
   "metadata": {},
   "outputs": [],
   "source": [
    "#Load the dataset into dataframe\n",
    "\n",
    "phishing_raw_df = pd.read_csv(\"Main_dataset.csv\", header = 0)"
   ]
  },
  {
   "cell_type": "code",
   "execution_count": 3,
   "metadata": {},
   "outputs": [
    {
     "data": {
      "text/plain": [
       "(72363, 12)"
      ]
     },
     "execution_count": 3,
     "metadata": {},
     "output_type": "execute_result"
    }
   ],
   "source": [
    "# Dropping null values, duplicates and reset the index\n",
    "\n",
    "phishing_raw_df = phishing_raw_df.dropna()\n",
    "phishing_raw_df = phishing_raw_df.drop_duplicates()\n",
    "phishing_raw_df = phishing_raw_df.reset_index(drop=True)\n",
    "phishing_raw_df.shape"
   ]
  },
  {
   "cell_type": "code",
   "execution_count": 4,
   "metadata": {},
   "outputs": [
    {
     "name": "stdout",
     "output_type": "stream",
     "text": [
      "<class 'pandas.core.frame.DataFrame'>\n",
      "RangeIndex: 72363 entries, 0 to 72362\n",
      "Data columns (total 12 columns):\n",
      " #   Column          Non-Null Count  Dtype \n",
      "---  ------          --------------  ----- \n",
      " 0   domain          72363 non-null  object\n",
      " 1   ranking         72363 non-null  int64 \n",
      " 2   isIp            72363 non-null  int64 \n",
      " 3   valid           72363 non-null  int64 \n",
      " 4   activeDuration  72363 non-null  int64 \n",
      " 5   urlLen          72363 non-null  int64 \n",
      " 6   is@             72363 non-null  int64 \n",
      " 7   isredirect      72363 non-null  int64 \n",
      " 8   haveDash        72363 non-null  int64 \n",
      " 9   domainLen       72363 non-null  int64 \n",
      " 10  nosOfSubdomain  72363 non-null  int64 \n",
      " 11  label           72363 non-null  int64 \n",
      "dtypes: int64(11), object(1)\n",
      "memory usage: 6.6+ MB\n",
      "None\n"
     ]
    }
   ],
   "source": [
    "print(phishing_raw_df.info())"
   ]
  },
  {
   "cell_type": "markdown",
   "metadata": {},
   "source": [
    "## Data Pre-processing"
   ]
  },
  {
   "cell_type": "code",
   "execution_count": 5,
   "metadata": {},
   "outputs": [
    {
     "name": "stdout",
     "output_type": "stream",
     "text": [
      "Class Legitimate URL: 31025\n",
      "Class Phishing URL: 41338\n",
      "Proportion: 0.75 : 1\n"
     ]
    },
    {
     "data": {
      "image/png": "[encoded data removed]",
      "text/plain": [
       "<Figure size 432x288 with 1 Axes>"
      ]
     },
     "metadata": {
      "needs_background": "light"
     },
     "output_type": "display_data"
    }
   ],
   "source": [
    "# Plotting a bar graph with the number of Legitimate and Phishing class urls\n",
    "\n",
    "target_count = phishing_raw_df.label.value_counts()\n",
    "print('Class Legitimate URL:', target_count[0])\n",
    "print('Class Phishing URL:', target_count[1])\n",
    "print('Proportion:', round(target_count[0] / target_count[1], 2), ': 1')\n",
    "\n",
    "phishing_raw_df.label.value_counts().plot(kind='bar', title='Count (Label)');"
   ]
  },
  {
   "cell_type": "code",
   "execution_count": 6,
   "metadata": {},
   "outputs": [
    {
     "name": "stdout",
     "output_type": "stream",
     "text": [
      "Random under-sampling:\n",
      "0    31025\n",
      "1    31025\n",
      "Name: label, dtype: int64\n"
     ]
    },
    {
     "data": {
      "image/png": "[encoded data removed]",
      "text/plain": [
       "<Figure size 432x288 with 1 Axes>"
      ]
     },
     "metadata": {
      "needs_background": "light"
     },
     "output_type": "display_data"
    }
   ],
   "source": [
    "# Each Class count\n",
    "\n",
    "count_class_1, count_class_0 = phishing_raw_df.label.value_counts()\n",
    "\n",
    "# Divide by each class\n",
    "\n",
    "df_class_0 = phishing_raw_df[phishing_raw_df['label'] == 0]\n",
    "df_class_1 = phishing_raw_df[phishing_raw_df['label'] == 1]\n",
    "\n",
    "# As the class 1 values are more than to class 0,\n",
    "# Undersampling is performed to avoid bias and have same number of urls in both classes\n",
    "\n",
    "df_class_1_under = df_class_1.sample(count_class_0)\n",
    "phishing_raw_df = pd.concat([df_class_1_under, df_class_0], axis=0)\n",
    "\n",
    "print('Random under-sampling:')\n",
    "print(phishing_raw_df.label.value_counts())\n",
    "\n",
    "phishing_raw_df.label.value_counts().plot(kind='bar', title='Count (target)');"
   ]
  },
  {
   "cell_type": "code",
   "execution_count": 7,
   "metadata": {},
   "outputs": [
    {
     "data": {
      "text/html": [
       "<div>\n",
       "<style scoped>\n",
       "    .dataframe tbody tr th:only-of-type {\n",
       "        vertical-align: middle;\n",
       "    }\n",
       "\n",
       "    .dataframe tbody tr th {\n",
       "        vertical-align: top;\n",
       "    }\n",
       "\n",
       "    .dataframe thead th {\n",
       "        text-align: right;\n",
       "    }\n",
       "</style>\n",
       "<table border=\"1\" class=\"dataframe\">\n",
       "  <thead>\n",
       "    <tr style=\"text-align: right;\">\n",
       "      <th></th>\n",
       "      <th>domain</th>\n",
       "      <th>ranking</th>\n",
       "      <th>isIp</th>\n",
       "      <th>valid</th>\n",
       "      <th>activeDuration</th>\n",
       "      <th>urlLen</th>\n",
       "      <th>is@</th>\n",
       "      <th>isredirect</th>\n",
       "      <th>haveDash</th>\n",
       "      <th>domainLen</th>\n",
       "      <th>nosOfSubdomain</th>\n",
       "      <th>label</th>\n",
       "    </tr>\n",
       "  </thead>\n",
       "  <tbody>\n",
       "    <tr>\n",
       "      <th>28874</th>\n",
       "      <td>kandycrew.com.au/us/webscr.php?cmd=_login-run&amp;...</td>\n",
       "      <td>10000000</td>\n",
       "      <td>0</td>\n",
       "      <td>0</td>\n",
       "      <td>0</td>\n",
       "      <td>183</td>\n",
       "      <td>0</td>\n",
       "      <td>0</td>\n",
       "      <td>0</td>\n",
       "      <td>16</td>\n",
       "      <td>2</td>\n",
       "      <td>1</td>\n",
       "    </tr>\n",
       "    <tr>\n",
       "      <th>67648</th>\n",
       "      <td>www.wor1dofwarcraft.com/login/login.asp?ref=ww...</td>\n",
       "      <td>10000000</td>\n",
       "      <td>0</td>\n",
       "      <td>1</td>\n",
       "      <td>366</td>\n",
       "      <td>88</td>\n",
       "      <td>0</td>\n",
       "      <td>0</td>\n",
       "      <td>0</td>\n",
       "      <td>23</td>\n",
       "      <td>2</td>\n",
       "      <td>1</td>\n",
       "    </tr>\n",
       "    <tr>\n",
       "      <th>15398</th>\n",
       "      <td>jovemvip.com.br/expopec/Area_Segura/www.promoc...</td>\n",
       "      <td>10000000</td>\n",
       "      <td>0</td>\n",
       "      <td>1</td>\n",
       "      <td>4018</td>\n",
       "      <td>137</td>\n",
       "      <td>0</td>\n",
       "      <td>0</td>\n",
       "      <td>0</td>\n",
       "      <td>15</td>\n",
       "      <td>2</td>\n",
       "      <td>1</td>\n",
       "    </tr>\n",
       "    <tr>\n",
       "      <th>67454</th>\n",
       "      <td>paypal.com.restore.engine1.verification.update...</td>\n",
       "      <td>10000000</td>\n",
       "      <td>0</td>\n",
       "      <td>1</td>\n",
       "      <td>4018</td>\n",
       "      <td>139</td>\n",
       "      <td>0</td>\n",
       "      <td>0</td>\n",
       "      <td>0</td>\n",
       "      <td>112</td>\n",
       "      <td>10</td>\n",
       "      <td>1</td>\n",
       "    </tr>\n",
       "    <tr>\n",
       "      <th>30689</th>\n",
       "      <td>bit.ly/Uxv5Lz</td>\n",
       "      <td>3832</td>\n",
       "      <td>0</td>\n",
       "      <td>0</td>\n",
       "      <td>0</td>\n",
       "      <td>13</td>\n",
       "      <td>0</td>\n",
       "      <td>0</td>\n",
       "      <td>0</td>\n",
       "      <td>6</td>\n",
       "      <td>1</td>\n",
       "      <td>1</td>\n",
       "    </tr>\n",
       "  </tbody>\n",
       "</table>\n",
       "</div>"
      ],
      "text/plain": [
       "                                                  domain   ranking  isIp  \\\n",
       "28874  kandycrew.com.au/us/webscr.php?cmd=_login-run&...  10000000     0   \n",
       "67648  www.wor1dofwarcraft.com/login/login.asp?ref=ww...  10000000     0   \n",
       "15398  jovemvip.com.br/expopec/Area_Segura/www.promoc...  10000000     0   \n",
       "67454  paypal.com.restore.engine1.verification.update...  10000000     0   \n",
       "30689                                      bit.ly/Uxv5Lz      3832     0   \n",
       "\n",
       "       valid  activeDuration  urlLen  is@  isredirect  haveDash  domainLen  \\\n",
       "28874      0               0     183    0           0         0         16   \n",
       "67648      1             366      88    0           0         0         23   \n",
       "15398      1            4018     137    0           0         0         15   \n",
       "67454      1            4018     139    0           0         0        112   \n",
       "30689      0               0      13    0           0         0          6   \n",
       "\n",
       "       nosOfSubdomain  label  \n",
       "28874               2      1  \n",
       "67648               2      1  \n",
       "15398               2      1  \n",
       "67454              10      1  \n",
       "30689               1      1  "
      ]
     },
     "execution_count": 7,
     "metadata": {},
     "output_type": "execute_result"
    }
   ],
   "source": [
    "# Viewing sample data from dataframe\n",
    "\n",
    "phishing_raw_df.head()"
   ]
  },
  {
   "cell_type": "markdown",
   "metadata": {},
   "source": [
    "## Data Transformation"
   ]
  },
  {
   "cell_type": "code",
   "execution_count": 8,
   "metadata": {},
   "outputs": [],
   "source": [
    "# Object created for the features class imported from feature_extract file\n",
    "# This class has the methods that extracts features given the URL\n",
    "\n",
    "feature = FeatureExtract()"
   ]
  },
  {
   "cell_type": "code",
   "execution_count": 9,
   "metadata": {},
   "outputs": [
    {
     "data": {
      "text/html": [
       "<div>\n",
       "<style scoped>\n",
       "    .dataframe tbody tr th:only-of-type {\n",
       "        vertical-align: middle;\n",
       "    }\n",
       "\n",
       "    .dataframe tbody tr th {\n",
       "        vertical-align: top;\n",
       "    }\n",
       "\n",
       "    .dataframe thead th {\n",
       "        text-align: right;\n",
       "    }\n",
       "</style>\n",
       "<table border=\"1\" class=\"dataframe\">\n",
       "  <thead>\n",
       "    <tr style=\"text-align: right;\">\n",
       "      <th></th>\n",
       "      <th>Rank</th>\n",
       "      <th>isIP</th>\n",
       "      <th>isValid</th>\n",
       "      <th>Domain_reg_len</th>\n",
       "      <th>is@</th>\n",
       "      <th>isRedirect</th>\n",
       "      <th>haveDash</th>\n",
       "      <th>SubDomain</th>\n",
       "      <th>Domain_http</th>\n",
       "      <th>LongURL</th>\n",
       "      <th>TinyURL</th>\n",
       "      <th>Label</th>\n",
       "    </tr>\n",
       "  </thead>\n",
       "  <tbody>\n",
       "    <tr>\n",
       "      <th>0</th>\n",
       "      <td>1</td>\n",
       "      <td>0</td>\n",
       "      <td>1</td>\n",
       "      <td>0</td>\n",
       "      <td>0</td>\n",
       "      <td>0</td>\n",
       "      <td>0</td>\n",
       "      <td>1</td>\n",
       "      <td>0</td>\n",
       "      <td>1</td>\n",
       "      <td>0</td>\n",
       "      <td>1</td>\n",
       "    </tr>\n",
       "    <tr>\n",
       "      <th>1</th>\n",
       "      <td>1</td>\n",
       "      <td>0</td>\n",
       "      <td>1</td>\n",
       "      <td>0</td>\n",
       "      <td>0</td>\n",
       "      <td>0</td>\n",
       "      <td>0</td>\n",
       "      <td>1</td>\n",
       "      <td>0</td>\n",
       "      <td>1</td>\n",
       "      <td>0</td>\n",
       "      <td>1</td>\n",
       "    </tr>\n",
       "    <tr>\n",
       "      <th>2</th>\n",
       "      <td>0</td>\n",
       "      <td>0</td>\n",
       "      <td>1</td>\n",
       "      <td>0</td>\n",
       "      <td>0</td>\n",
       "      <td>0</td>\n",
       "      <td>0</td>\n",
       "      <td>1</td>\n",
       "      <td>0</td>\n",
       "      <td>0</td>\n",
       "      <td>0</td>\n",
       "      <td>0</td>\n",
       "    </tr>\n",
       "    <tr>\n",
       "      <th>3</th>\n",
       "      <td>1</td>\n",
       "      <td>0</td>\n",
       "      <td>0</td>\n",
       "      <td>1</td>\n",
       "      <td>0</td>\n",
       "      <td>0</td>\n",
       "      <td>0</td>\n",
       "      <td>0</td>\n",
       "      <td>0</td>\n",
       "      <td>1</td>\n",
       "      <td>0</td>\n",
       "      <td>1</td>\n",
       "    </tr>\n",
       "    <tr>\n",
       "      <th>4</th>\n",
       "      <td>1</td>\n",
       "      <td>0</td>\n",
       "      <td>0</td>\n",
       "      <td>1</td>\n",
       "      <td>0</td>\n",
       "      <td>0</td>\n",
       "      <td>0</td>\n",
       "      <td>1</td>\n",
       "      <td>0</td>\n",
       "      <td>1</td>\n",
       "      <td>0</td>\n",
       "      <td>1</td>\n",
       "    </tr>\n",
       "  </tbody>\n",
       "</table>\n",
       "</div>"
      ],
      "text/plain": [
       "   Rank  isIP  isValid  Domain_reg_len  is@  isRedirect  haveDash  SubDomain  \\\n",
       "0     1     0        1               0    0           0         0          1   \n",
       "1     1     0        1               0    0           0         0          1   \n",
       "2     0     0        1               0    0           0         0          1   \n",
       "3     1     0        0               1    0           0         0          0   \n",
       "4     1     0        0               1    0           0         0          1   \n",
       "\n",
       "   Domain_http  LongURL  TinyURL  Label  \n",
       "0            0        1        0      1  \n",
       "1            0        1        0      1  \n",
       "2            0        0        0      0  \n",
       "3            0        1        0      1  \n",
       "4            0        1        0      1  "
      ]
     },
     "execution_count": 9,
     "metadata": {},
     "output_type": "execute_result"
    }
   ],
   "source": [
    "# Insert a new column to the dataframe which shows if 'http' is found in the domain part of the URL.\n",
    "\n",
    "phishing_raw_df[\"Domain_http\"] = phishing_raw_df[\"domain\"].apply( lambda x: feature.httpDomain(x))\n",
    "\n",
    "# Insert a new column to the dataframe indicating the length of the URL.\n",
    "\n",
    "phishing_raw_df[\"LongURL\"] = phishing_raw_df[\"domain\"].apply( lambda x: feature.LongURL(x))\n",
    "\n",
    "# Insert a new column to the dataframe indicating if the URL belongs to any of the shortening services.\n",
    "\n",
    "phishing_raw_df[\"TinyURL\"] = phishing_raw_df[\"domain\"].apply( lambda x: feature.tinyURL(x))\n",
    "\n",
    "# Alter the values in 'nosOfSubdomain' column of the dataframe.\n",
    "# If the number of sub domains is more than 1, then it is a phishing site.\n",
    "\n",
    "phishing_raw_df[\"nosOfSubdomain\"] = phishing_raw_df[\"domain\"].apply( lambda x: feature.no_sub_domain(x))\n",
    "\n",
    "# Alter the values in 'activeDuration' column of the dataframe.\n",
    "# If the value is greater than 365 (1 year), then it is a legitimate site.\n",
    "\n",
    "phishing_raw_df[\"activeDuration\"] = phishing_raw_df[\"activeDuration\"].apply( lambda x: 1 if x <= 365 else 0)\n",
    "\n",
    "# Alter the values in the dataframe column 'ranking'\n",
    "# If the value is greater than 100000, then it is a phishing site\n",
    "\n",
    "phishing_raw_df[\"ranking\"] = phishing_raw_df[\"ranking\"].apply( lambda x: 0 if x < 100000 else 1)\n",
    "\n",
    "# Remove the unwanted columns from the dataframe\n",
    "\n",
    "phishing_raw_df.drop(['urlLen','domainLen','domain'], inplace=True,axis=1)\n",
    "\n",
    "# Reorder and rename the columns in the dataframe\n",
    "\n",
    "Columns = ['Rank','isIP','isValid','Domain_reg_len','is@','isRedirect','haveDash','SubDomain','Label','Domain_http','LongURL','TinyURL']\n",
    "new_columns = ['Rank','isIP','isValid','Domain_reg_len','is@','isRedirect','haveDash','SubDomain','Domain_http','LongURL','TinyURL','Label']\n",
    "phishing_raw_df.columns = Columns\n",
    "phishing_raw_df = phishing_raw_df.reindex(columns=new_columns)\n",
    "phishing_raw_df1 = phishing_raw_df.copy(deep=True)\n",
    "phishing_raw_df1.drop(['Domain_http'],inplace=True,axis=1)\n",
    "\n",
    "# Shuffle the rows in the dataset so that when splitting the train and test set are equally distributed\n",
    "\n",
    "phishing_raw_df = phishing_raw_df.sample(frac=1).reset_index(drop=True)\n",
    "\n",
    "# Save the dataframe to a csv file \n",
    "\n",
    "phishing_raw_df.to_csv('phishing_feature_engg.csv', encoding='utf-8')\n",
    "\n",
    "#Display the dataset after data pre-processing\n",
    "\n",
    "phishing_raw_df.head()"
   ]
  },
  {
   "cell_type": "code",
   "execution_count": 10,
   "metadata": {},
   "outputs": [
    {
     "data": {
      "text/plain": [
       "Rank              0\n",
       "isIP              0\n",
       "isValid           0\n",
       "Domain_reg_len    0\n",
       "is@               0\n",
       "isRedirect        0\n",
       "haveDash          0\n",
       "SubDomain         0\n",
       "Domain_http       0\n",
       "LongURL           0\n",
       "TinyURL           0\n",
       "Label             0\n",
       "dtype: int64"
      ]
     },
     "execution_count": 10,
     "metadata": {},
     "output_type": "execute_result"
    }
   ],
   "source": [
    "# Check for null values\n",
    "\n",
    "phishing_raw_df.isnull().sum()"
   ]
  },
  {
   "cell_type": "markdown",
   "metadata": {},
   "source": [
    "## Data Statistics"
   ]
  },
  {
   "cell_type": "code",
   "execution_count": 11,
   "metadata": {},
   "outputs": [
    {
     "data": {
      "text/html": [
       "<div>\n",
       "<style scoped>\n",
       "    .dataframe tbody tr th:only-of-type {\n",
       "        vertical-align: middle;\n",
       "    }\n",
       "\n",
       "    .dataframe tbody tr th {\n",
       "        vertical-align: top;\n",
       "    }\n",
       "\n",
       "    .dataframe thead th {\n",
       "        text-align: right;\n",
       "    }\n",
       "</style>\n",
       "<table border=\"1\" class=\"dataframe\">\n",
       "  <thead>\n",
       "    <tr style=\"text-align: right;\">\n",
       "      <th></th>\n",
       "      <th>Rank</th>\n",
       "      <th>isIP</th>\n",
       "      <th>isValid</th>\n",
       "      <th>Domain_reg_len</th>\n",
       "      <th>is@</th>\n",
       "      <th>isRedirect</th>\n",
       "      <th>haveDash</th>\n",
       "      <th>SubDomain</th>\n",
       "      <th>Domain_http</th>\n",
       "      <th>LongURL</th>\n",
       "      <th>TinyURL</th>\n",
       "      <th>Label</th>\n",
       "    </tr>\n",
       "  </thead>\n",
       "  <tbody>\n",
       "    <tr>\n",
       "      <th>count</th>\n",
       "      <td>62050.000000</td>\n",
       "      <td>62050.000000</td>\n",
       "      <td>62050.000000</td>\n",
       "      <td>62050.000000</td>\n",
       "      <td>62050.000000</td>\n",
       "      <td>62050.000000</td>\n",
       "      <td>62050.000000</td>\n",
       "      <td>62050.000000</td>\n",
       "      <td>62050.0</td>\n",
       "      <td>62050.000000</td>\n",
       "      <td>62050.000000</td>\n",
       "      <td>62050.000000</td>\n",
       "    </tr>\n",
       "    <tr>\n",
       "      <th>mean</th>\n",
       "      <td>0.662111</td>\n",
       "      <td>0.000177</td>\n",
       "      <td>0.594376</td>\n",
       "      <td>0.410540</td>\n",
       "      <td>0.002434</td>\n",
       "      <td>0.006479</td>\n",
       "      <td>0.142562</td>\n",
       "      <td>0.549654</td>\n",
       "      <td>0.0</td>\n",
       "      <td>0.353892</td>\n",
       "      <td>0.069396</td>\n",
       "      <td>0.500000</td>\n",
       "    </tr>\n",
       "    <tr>\n",
       "      <th>std</th>\n",
       "      <td>0.472994</td>\n",
       "      <td>0.013313</td>\n",
       "      <td>0.491016</td>\n",
       "      <td>0.491936</td>\n",
       "      <td>0.049271</td>\n",
       "      <td>0.080230</td>\n",
       "      <td>0.349629</td>\n",
       "      <td>0.497532</td>\n",
       "      <td>0.0</td>\n",
       "      <td>0.478180</td>\n",
       "      <td>0.254128</td>\n",
       "      <td>0.500004</td>\n",
       "    </tr>\n",
       "    <tr>\n",
       "      <th>min</th>\n",
       "      <td>0.000000</td>\n",
       "      <td>0.000000</td>\n",
       "      <td>0.000000</td>\n",
       "      <td>0.000000</td>\n",
       "      <td>0.000000</td>\n",
       "      <td>0.000000</td>\n",
       "      <td>0.000000</td>\n",
       "      <td>0.000000</td>\n",
       "      <td>0.0</td>\n",
       "      <td>0.000000</td>\n",
       "      <td>0.000000</td>\n",
       "      <td>0.000000</td>\n",
       "    </tr>\n",
       "    <tr>\n",
       "      <th>25%</th>\n",
       "      <td>0.000000</td>\n",
       "      <td>0.000000</td>\n",
       "      <td>0.000000</td>\n",
       "      <td>0.000000</td>\n",
       "      <td>0.000000</td>\n",
       "      <td>0.000000</td>\n",
       "      <td>0.000000</td>\n",
       "      <td>0.000000</td>\n",
       "      <td>0.0</td>\n",
       "      <td>0.000000</td>\n",
       "      <td>0.000000</td>\n",
       "      <td>0.000000</td>\n",
       "    </tr>\n",
       "    <tr>\n",
       "      <th>50%</th>\n",
       "      <td>1.000000</td>\n",
       "      <td>0.000000</td>\n",
       "      <td>1.000000</td>\n",
       "      <td>0.000000</td>\n",
       "      <td>0.000000</td>\n",
       "      <td>0.000000</td>\n",
       "      <td>0.000000</td>\n",
       "      <td>1.000000</td>\n",
       "      <td>0.0</td>\n",
       "      <td>0.000000</td>\n",
       "      <td>0.000000</td>\n",
       "      <td>0.500000</td>\n",
       "    </tr>\n",
       "    <tr>\n",
       "      <th>75%</th>\n",
       "      <td>1.000000</td>\n",
       "      <td>0.000000</td>\n",
       "      <td>1.000000</td>\n",
       "      <td>1.000000</td>\n",
       "      <td>0.000000</td>\n",
       "      <td>0.000000</td>\n",
       "      <td>0.000000</td>\n",
       "      <td>1.000000</td>\n",
       "      <td>0.0</td>\n",
       "      <td>1.000000</td>\n",
       "      <td>0.000000</td>\n",
       "      <td>1.000000</td>\n",
       "    </tr>\n",
       "    <tr>\n",
       "      <th>max</th>\n",
       "      <td>1.000000</td>\n",
       "      <td>1.000000</td>\n",
       "      <td>1.000000</td>\n",
       "      <td>1.000000</td>\n",
       "      <td>1.000000</td>\n",
       "      <td>1.000000</td>\n",
       "      <td>1.000000</td>\n",
       "      <td>1.000000</td>\n",
       "      <td>0.0</td>\n",
       "      <td>1.000000</td>\n",
       "      <td>1.000000</td>\n",
       "      <td>1.000000</td>\n",
       "    </tr>\n",
       "  </tbody>\n",
       "</table>\n",
       "</div>"
      ],
      "text/plain": [
       "               Rank          isIP       isValid  Domain_reg_len           is@  \\\n",
       "count  62050.000000  62050.000000  62050.000000    62050.000000  62050.000000   \n",
       "mean       0.662111      0.000177      0.594376        0.410540      0.002434   \n",
       "std        0.472994      0.013313      0.491016        0.491936      0.049271   \n",
       "min        0.000000      0.000000      0.000000        0.000000      0.000000   \n",
       "25%        0.000000      0.000000      0.000000        0.000000      0.000000   \n",
       "50%        1.000000      0.000000      1.000000        0.000000      0.000000   \n",
       "75%        1.000000      0.000000      1.000000        1.000000      0.000000   \n",
       "max        1.000000      1.000000      1.000000        1.000000      1.000000   \n",
       "\n",
       "         isRedirect      haveDash     SubDomain  Domain_http       LongURL  \\\n",
       "count  62050.000000  62050.000000  62050.000000      62050.0  62050.000000   \n",
       "mean       0.006479      0.142562      0.549654          0.0      0.353892   \n",
       "std        0.080230      0.349629      0.497532          0.0      0.478180   \n",
       "min        0.000000      0.000000      0.000000          0.0      0.000000   \n",
       "25%        0.000000      0.000000      0.000000          0.0      0.000000   \n",
       "50%        0.000000      0.000000      1.000000          0.0      0.000000   \n",
       "75%        0.000000      0.000000      1.000000          0.0      1.000000   \n",
       "max        1.000000      1.000000      1.000000          0.0      1.000000   \n",
       "\n",
       "            TinyURL         Label  \n",
       "count  62050.000000  62050.000000  \n",
       "mean       0.069396      0.500000  \n",
       "std        0.254128      0.500004  \n",
       "min        0.000000      0.000000  \n",
       "25%        0.000000      0.000000  \n",
       "50%        0.000000      0.500000  \n",
       "75%        0.000000      1.000000  \n",
       "max        1.000000      1.000000  "
      ]
     },
     "execution_count": 11,
     "metadata": {},
     "output_type": "execute_result"
    }
   ],
   "source": [
    "phishing_raw_df.describe()"
   ]
  },
  {
   "cell_type": "code",
   "execution_count": 12,
   "metadata": {},
   "outputs": [
    {
     "data": {
      "text/plain": [
       "<AxesSubplot:>"
      ]
     },
     "execution_count": 12,
     "metadata": {},
     "output_type": "execute_result"
    },
    {
     "data": {
      "image/png": "[encoded data removed]",
      "text/plain": [
       "<Figure size 1080x504 with 2 Axes>"
      ]
     },
     "metadata": {
      "needs_background": "light"
     },
     "output_type": "display_data"
    }
   ],
   "source": [
    "# Heat Map\n",
    "\n",
    "plt.figure(figsize=(15,7))\n",
    "sns.heatmap(phishing_raw_df1.corr(),annot=True, linewidth=0.5)"
   ]
  },
  {
   "cell_type": "code",
   "execution_count": 13,
   "metadata": {},
   "outputs": [],
   "source": [
    "# Label column was dropped and stored the feature data in X\n",
    "X=phishing_raw_df.drop([\"Label\"],axis=1)\n",
    "\n",
    "# store the labels in y\n",
    "Y=phishing_raw_df[\"Label\"]\n",
    "\n",
    "#split the data\n",
    "X_train, X_test, y_train, y_test = train_test_split(X,Y, test_size=0.2, random_state=101)"
   ]
  },
  {
   "cell_type": "code",
   "execution_count": 14,
   "metadata": {},
   "outputs": [
    {
     "data": {
      "text/plain": [
       "DecisionTreeClassifier(criterion='entropy', max_depth=5, random_state=100)"
      ]
     },
     "execution_count": 14,
     "metadata": {},
     "output_type": "execute_result"
    }
   ],
   "source": [
    "# Fit the data with decision tree classifier to identify feature importance\n",
    "\n",
    "dtc = DecisionTreeClassifier(criterion = \"entropy\", random_state = 100,max_depth = 5)\n",
    "dtc.fit(X_train,y_train)"
   ]
  },
  {
   "cell_type": "code",
   "execution_count": 15,
   "metadata": {},
   "outputs": [
    {
     "data": {
      "image/png": "[encoded data removed]",
      "text/plain": [
       "<Figure size 648x504 with 1 Axes>"
      ]
     },
     "metadata": {
      "needs_background": "light"
     },
     "output_type": "display_data"
    }
   ],
   "source": [
    "# Get the feature importance for all the features, from the decision tree classifier\n",
    "\n",
    "importances = dtc.feature_importances_\n",
    "indices = np.argsort(importances)\n",
    "plt.figure(figsize=(9,7))\n",
    "n_features = X_train.shape[1]\n",
    "plt.barh(range(n_features), importances[indices], align='center')\n",
    "plt.yticks(np.arange(n_features), X_train.columns[indices])\n",
    "for index, value in enumerate(importances[indices]):\n",
    "    plt.text(value, index, str(round(value,3)))\n",
    "plt.xlabel(\"Feature importance\")\n",
    "plt.ylabel(\"Feature\")\n",
    "plt.show()\n"
   ]
  },
  {
   "cell_type": "code",
   "execution_count": 16,
   "metadata": {},
   "outputs": [],
   "source": [
    "# Drop the features with least importance and assign the input and output\n",
    "# variables from the dataset\n",
    "\n",
    "phishing_raw_df.drop([\"isIP\",\"Domain_http\",\"is@\"],inplace=True,axis=1)\n",
    "X = phishing_raw_df.iloc[:, :8]\n",
    "Y = phishing_raw_df[\"Label\"]"
   ]
  },
  {
   "cell_type": "code",
   "execution_count": 17,
   "metadata": {},
   "outputs": [],
   "source": [
    "# Split the data for training and testing \n",
    "\n",
    "X_train, X_test, y_train, y_test = train_test_split(X.values,Y.values, test_size=0.3, random_state=101)"
   ]
  },
  {
   "cell_type": "markdown",
   "metadata": {},
   "source": [
    "## Model Development"
   ]
  },
  {
   "cell_type": "markdown",
   "metadata": {},
   "source": [
    "### XGBoost"
   ]
  },
  {
   "cell_type": "code",
   "execution_count": 18,
   "metadata": {},
   "outputs": [],
   "source": [
    "def XG_Boost_classifier():\n",
    "    \n",
    "    # Funtion for XGBoost model\n",
    "    \n",
    "    global XGB_model\n",
    "    \n",
    "    XGB_model = XGBClassifier(random_state=100)\n",
    "    \n",
    "    train_start = timeit.default_timer()\n",
    "    XGB_model.fit(X_train, y_train)\n",
    "    train_time = timeit.default_timer() - train_start\n",
    "    \n",
    "    test_start = timeit.default_timer()\n",
    "    pred_XGB_test = XGB_model.predict(X_test)\n",
    "    test_time = timeit.default_timer() - test_start\n",
    "    \n",
    "    pred_XGB_train = XGB_model.predict(X_train)\n",
    "    kappa_XGB = cohen_kappa_score(y_test, pred_XGB_test)\n",
    "    \n",
    "    # Print the classification report\n",
    "\n",
    "    print('\\n---------- XGBoost ----------\\n')\n",
    "    print('Classification Report:\\n', classification_report(y_test, pred_XGB_test, target_names=['0','1']))\n",
    "    \n",
    "    # Print the Confusion matrix\n",
    "    \n",
    "    disp = ConfusionMatrixDisplay(confusion_matrix=confusion_matrix(y_test, pred_XGB_test),display_labels=['0','1'])\n",
    "    print('\\nConfusion matrix:\\n',disp.plot())\n",
    "    \n",
    "    # Print the precision-recall graph\n",
    "    \n",
    "    plot_precision_recall_curve(XGB_model, X_test, y_test, name = 'XGBoost')\n",
    "    \n",
    "    return (('XGBoost',accuracy_score(y_train,pred_XGB_train),accuracy_score(y_test,pred_XGB_test),kappa_XGB, train_time,test_time))\n"
   ]
  },
  {
   "cell_type": "markdown",
   "metadata": {},
   "source": [
    "## Decision Tree"
   ]
  },
  {
   "cell_type": "code",
   "execution_count": 19,
   "metadata": {},
   "outputs": [],
   "source": [
    "def Decision_Tree_classifier():\n",
    "    \n",
    "    # Funtion for Decision Tree model\n",
    "    \n",
    "    global DTC_model\n",
    "    \n",
    "    DTC_model = DecisionTreeClassifier(criterion = \"entropy\", random_state = 100,max_depth = 5)\n",
    "    \n",
    "    train_start = timeit.default_timer()\n",
    "    DTC_model.fit(X_train,y_train)\n",
    "    train_time = timeit.default_timer() - train_start\n",
    "    \n",
    "    test_start = timeit.default_timer()\n",
    "    pred_dtc_test = DTC_model.predict(X_test)\n",
    "    test_time = timeit.default_timer() - test_start\n",
    "    \n",
    "    pred_dtc_train = DTC_model.predict(X_train)\n",
    "    kappa_dtc = cohen_kappa_score(y_test, pred_dtc_test)\n",
    "    \n",
    "    # Print the classification report\n",
    "    \n",
    "    print('\\n---------- Decision Tree ----------\\n')\n",
    "    print('Classification Report :\\n', classification_report(y_test, pred_dtc_test, target_names=['0','1']))\n",
    "    \n",
    "    # Print the Confusion matrix\n",
    "    \n",
    "    disp = ConfusionMatrixDisplay(confusion_matrix=confusion_matrix(y_test, pred_dtc_test),display_labels=['0','1'])\n",
    "    print('\\nConfusion matrix:\\n',disp.plot())\n",
    "    \n",
    "    # Print the precision-recall graph\n",
    "    \n",
    "    plot_precision_recall_curve(DTC_model, X_test, y_test, name = 'Decision Tree')\n",
    "    \n",
    "    return (('Decision Tree',accuracy_score(y_train,pred_dtc_train),accuracy_score(y_test,pred_dtc_test), kappa_dtc, train_time,test_time))"
   ]
  },
  {
   "cell_type": "markdown",
   "metadata": {},
   "source": [
    "## Neural Network"
   ]
  },
  {
   "cell_type": "code",
   "execution_count": 20,
   "metadata": {},
   "outputs": [],
   "source": [
    "def Neural_Network_classifier():\n",
    "    \n",
    "    # Funtion for Neural Network model\n",
    "    # The neural network is trained with 3 layers \n",
    "    global MLP_model\n",
    "\n",
    "    MLP_model = MLPClassifier(hidden_layer_sizes=(12,12,12), activation='relu', solver='adam', max_iter=500)\n",
    "    \n",
    "    train_start = timeit.default_timer()  \n",
    "    MLP_model.fit(X_train,y_train)\n",
    "    train_time = timeit.default_timer() - train_start\n",
    "    \n",
    "    test_start = timeit.default_timer()\n",
    "    pred_NN_test = MLP_model.predict(X_test)\n",
    "    test_time = timeit.default_timer() - test_start\n",
    "    \n",
    "    pred_NN_train = MLP_model.predict(X_train)\n",
    "    kappa_NN = cohen_kappa_score(y_test, pred_NN_test)\n",
    "    \n",
    "    # Print the classification report\n",
    "    \n",
    "    print('\\n---------- Neural Network ----------\\n')\n",
    "    print('Classification Report:\\n', classification_report(y_test, pred_NN_test, target_names=['0','1']))\n",
    "    \n",
    "    # Print the Confusion matrix\n",
    "    \n",
    "    disp = ConfusionMatrixDisplay(confusion_matrix=confusion_matrix(y_test, pred_NN_test),display_labels=['0','1'])\n",
    "    print('\\nconfusion matrix:\\n',disp.plot())\n",
    "    \n",
    "    # Print the precision-recall graph\n",
    "    \n",
    "    plot_precision_recall_curve(MLP_model, X_test, y_test, name = 'Neural Network')\n",
    "    \n",
    "    return (('Neural Network',accuracy_score(y_train,pred_NN_train),accuracy_score(y_test,pred_NN_test), kappa_NN, train_time,test_time))"
   ]
  },
  {
   "cell_type": "markdown",
   "metadata": {},
   "source": [
    "# SVM"
   ]
  },
  {
   "cell_type": "code",
   "execution_count": 21,
   "metadata": {},
   "outputs": [],
   "source": [
    "def Svm_classifier():\n",
    "    \n",
    "    # Funtion for SVM model\n",
    "    \n",
    "    global SVM_model\n",
    "    \n",
    "    SVM_model = SVC(kernel='poly', degree=9, random_state=12)\n",
    "    \n",
    "    train_start = timeit.default_timer()\n",
    "    SVM_model.fit(X_train, y_train)\n",
    "    train_time = timeit.default_timer() - train_start\n",
    "    \n",
    "    test_start = timeit.default_timer()\n",
    "    pred_svm_test = SVM_model.predict(X_test)\n",
    "    test_time = timeit.default_timer() - test_start\n",
    "    \n",
    "    pred_svm_train = SVM_model.predict(X_train)\n",
    "    kappa_svm = cohen_kappa_score(y_test, pred_svm_test)\n",
    "    \n",
    "    # Print the classification report\n",
    "    \n",
    "    print('\\n---------- SVM ----------\\n')\n",
    "    print('Classification Report:\\n', classification_report(y_test, pred_svm_test, target_names=['0','1']))\n",
    "    \n",
    "    # Print the Confusion matrix\n",
    "    \n",
    "    disp = ConfusionMatrixDisplay(confusion_matrix=confusion_matrix(y_test, pred_svm_test),display_labels=['0','1'])\n",
    "    print('\\nconfusion matrix:\\n',disp.plot())\n",
    "    \n",
    "    # Print the precision-recall graph\n",
    "    \n",
    "    plot_precision_recall_curve(SVM_model, X_test, y_test, name = 'SVM')\n",
    "    \n",
    "    return (('SVM',accuracy_score(y_train,pred_svm_train),accuracy_score(y_test,pred_svm_test), kappa_svm, train_time,test_time))"
   ]
  },
  {
   "cell_type": "markdown",
   "metadata": {},
   "source": [
    "# Naive Bayes"
   ]
  },
  {
   "cell_type": "code",
   "execution_count": 22,
   "metadata": {},
   "outputs": [],
   "source": [
    "def Naive_Bayes_classifier():\n",
    "    \n",
    "    # Funtion for Naive Bayes model\n",
    "    \n",
    "    global NBC_model\n",
    "    \n",
    "    NBC_model = BernoulliNB()\n",
    "    \n",
    "    train_start = timeit.default_timer()\n",
    "    NBC_model.fit(X_train,y_train)\n",
    "    train_time = timeit.default_timer() - train_start\n",
    "    \n",
    "    test_start = timeit.default_timer()\n",
    "    pred_nb_test = NBC_model.predict(X_test)\n",
    "    test_time = timeit.default_timer() - test_start\n",
    "    \n",
    "    pred_nb_train = NBC_model.predict(X_train)\n",
    "    kappa_nb = cohen_kappa_score(y_test, pred_nb_test)\n",
    "    \n",
    "    # Print the classification report\n",
    "    \n",
    "    print('\\n---------- Naive Bayes ----------\\n')\n",
    "    print('Classification Report:\\n', classification_report(y_test, pred_nb_test, target_names=['0','1']))\n",
    "    \n",
    "    # Print the Confusion matrix\n",
    "    \n",
    "    disp = ConfusionMatrixDisplay(confusion_matrix=confusion_matrix(y_test, pred_nb_test),display_labels=['0','1'])\n",
    "    print('\\nconfusion matrix:\\n',disp.plot())\n",
    "    \n",
    "    # Print the precision-recall graph\n",
    "    \n",
    "    plot_precision_recall_curve(NBC_model, X_test, y_test, name = 'Naive Bayes')\n",
    "    \n",
    "    return (('Naive Bayes',accuracy_score(y_train,pred_nb_train),accuracy_score(y_test,pred_nb_test),kappa_nb, train_time,test_time))"
   ]
  },
  {
   "cell_type": "markdown",
   "metadata": {},
   "source": [
    "# Logistic Regression"
   ]
  },
  {
   "cell_type": "code",
   "execution_count": 23,
   "metadata": {},
   "outputs": [],
   "source": [
    "def Logistic_Regression_classifier():\n",
    "    \n",
    "    # Funtion for Logistic Regression model\n",
    "    \n",
    "    global LOG_model\n",
    "\n",
    "    LOG_model = LogisticRegression(random_state=100)\n",
    "    \n",
    "    train_start = timeit.default_timer()\n",
    "    LOG_model.fit(X_train,y_train)\n",
    "    train_time = timeit.default_timer() - train_start\n",
    "    \n",
    "    test_start = timeit.default_timer()\n",
    "    pred_logreg_test = LOG_model.predict(X_test)\n",
    "    test_time = timeit.default_timer() - test_start\n",
    "   \n",
    "    pred_logreg_train = LOG_model.predict(X_train)\n",
    "    kappa_lg =  cohen_kappa_score(y_test, pred_logreg_test)\n",
    "    \n",
    "    # Print the classification report\n",
    "    \n",
    "    print('\\n---------- Logistic Regression ----------\\n')\n",
    "    print('Classification Report:\\n', classification_report(y_test, pred_logreg_test, target_names=['0','1']))\n",
    "    \n",
    "    # Print the Confusion matrix\n",
    "    \n",
    "    disp = ConfusionMatrixDisplay(confusion_matrix=confusion_matrix(y_test, pred_logreg_test),display_labels=['0','1'])\n",
    "    print('\\nconfusion matrix:\\n',disp.plot())\n",
    "    \n",
    "    # Print the precision-recall graph\n",
    "    \n",
    "    plot_precision_recall_curve(LOG_model, X_test, y_test, name = 'Logistic Regression')\n",
    "    \n",
    "    return (('Logistic Regression',accuracy_score(y_train,pred_logreg_train),accuracy_score(y_test,pred_logreg_test),kappa_lg, train_time,test_time))"
   ]
  },
  {
   "cell_type": "markdown",
   "metadata": {},
   "source": [
    "# RandomForest"
   ]
  },
  {
   "cell_type": "code",
   "execution_count": 24,
   "metadata": {},
   "outputs": [],
   "source": [
    "def Random_Forest_classifier():\n",
    "    \n",
    "    # Funtion for Random Forest model\n",
    "    \n",
    "    global RFC_model\n",
    "    \n",
    "    RFC_model = RandomForestClassifier(criterion='entropy',random_state=100)\n",
    "    \n",
    "    train_start = timeit.default_timer()\n",
    "    RFC_model.fit(X_train, y_train)\n",
    "    train_time = timeit.default_timer() - train_start\n",
    "    \n",
    "    test_start = timeit.default_timer()\n",
    "    pred_RF_test = RFC_model.predict(X_test)\n",
    "    test_time = timeit.default_timer() - test_start\n",
    "    \n",
    "    pred_RF_train = RFC_model.predict(X_train)\n",
    "    kappa_rf = cohen_kappa_score(y_test, pred_RF_test)\n",
    "    \n",
    "    # Print the classification report\n",
    "    \n",
    "    print('\\n---------- Random Forest ----------\\n')\n",
    "    print('Classification Report:\\n', classification_report(y_test, pred_RF_test, target_names=['0','1']))\n",
    "    \n",
    "    # Print the Confusion matrix\n",
    "    \n",
    "    disp = ConfusionMatrixDisplay(confusion_matrix=confusion_matrix(y_test, pred_RF_test),display_labels=['0','1'])\n",
    "    print('\\nconfusion matrix:\\n',disp.plot())\n",
    "    \n",
    "    # Print the precision-recall graph\n",
    "    \n",
    "    plot_precision_recall_curve(RFC_model, X_test, y_test, name = 'Random Forest')\n",
    "    \n",
    "    return (('Random Forest',accuracy_score(y_train,pred_RF_train),accuracy_score(y_test,pred_RF_test),kappa_rf, train_time, test_time))"
   ]
  },
  {
   "cell_type": "markdown",
   "metadata": {},
   "source": [
    "## Evaluation Metrics"
   ]
  },
  {
   "cell_type": "code",
   "execution_count": 25,
   "metadata": {},
   "outputs": [],
   "source": [
    "\n",
    "def Roc_curves():\n",
    "    \n",
    "    # Function to display the ROC curves for the models\n",
    "    plt.figure()\n",
    "    \n",
    "    # Add the models to the list that you want to view on the ROC plot\n",
    "    models = [\n",
    "    {\n",
    "        'label': 'Logistic Regression',\n",
    "        'model': LogisticRegression(random_state=100),\n",
    "    },\n",
    "    {\n",
    "        'label': 'SVM',\n",
    "        'model': SVC(kernel='linear', C=1.0, random_state=100,probability=True),\n",
    "    },\n",
    "    {\n",
    "        'label': 'NaiveBayes',\n",
    "        'model': BernoulliNB(),\n",
    "    },\n",
    "    {\n",
    "        'label': 'Decision Tree',\n",
    "        'model': DecisionTreeClassifier(criterion = \"entropy\", random_state = 100,max_depth = 5),\n",
    "    },\n",
    "    {\n",
    "        'label': 'RandomForest',\n",
    "        'model': RandomForestClassifier(criterion='entropy',random_state=100)\n",
    "    },\n",
    "    {\n",
    "        'label': 'XGBoost',\n",
    "        'model': XGBClassifier(random_state=100),\n",
    "    },\n",
    "    {\n",
    "        'label': 'Neural Network',\n",
    "        'model': MLPClassifier(hidden_layer_sizes=(12,12,12), activation='relu', solver='adam', max_iter=500)\n",
    "    }\n",
    "    ]\n",
    "\n",
    "    # Below for loop iterates through your models list\n",
    "    \n",
    "    for m in models: \n",
    "        model = m['model']                # select the model\n",
    "        model.fit(X_train, y_train)       # train the model\n",
    "        y_pred=model.predict(X_test)      # predict the test data\n",
    "    \n",
    "    # Compute False postive rate, and True positive rate\n",
    "    \n",
    "        fpr, tpr, thresholds = metrics.roc_curve(y_test, model.predict_proba(X_test)[:,1])\n",
    "    \n",
    "    # Calculate Area under the curve to display on the plot\n",
    "    \n",
    "        auc = metrics.roc_auc_score(y_test,model.predict(X_test))\n",
    "    # Now, plot the computed values\n",
    "    \n",
    "        plt.plot(fpr, tpr, label='%s ROC (area = %0.2f)' % (m['label'], auc))\n",
    "        \n",
    "    # Custom settings for the plot \n",
    "    \n",
    "    plt.plot([0, 1], [0, 1],'r--')\n",
    "    plt.xlim([0.0, 1.0])\n",
    "    plt.ylim([0.0, 1.05])\n",
    "    plt.xlabel('1-Specificity(False Positive Rate)')\n",
    "    plt.ylabel('Sensitivity(True Positive Rate)')\n",
    "    plt.title('Receiver Operating Characteristic')\n",
    "    plt.legend(loc=\"lower right\")\n",
    "    plt.show()   "
   ]
  },
  {
   "cell_type": "code",
   "execution_count": 29,
   "metadata": {},
   "outputs": [],
   "source": [
    "def call_ml_models():\n",
    "    \n",
    "    # Function to invoke all the proposed ML models and consolidates the performace of each model\n",
    "    \n",
    "    kappa_list = []\n",
    "    ML_Model = []\n",
    "    acc_train = []\n",
    "    acc_test = []\n",
    "    train_time = []\n",
    "    test_time = []\n",
    "    model_list = [Logistic_Regression_classifier,Naive_Bayes_classifier,Svm_classifier,Decision_Tree_classifier,Random_Forest_classifier,XG_Boost_classifier,Neural_Network_classifier]\n",
    "    \n",
    "    # Below loop iterates to invoke each models in the model_list\n",
    "    \n",
    "    for model in model_list: \n",
    "        res = model()\n",
    "        ML_Model.append(res[0])\n",
    "        acc_train.append(res[1])\n",
    "        acc_test.append(res[2])\n",
    "        kappa_list.append(res[3]) \n",
    "        train_time.append(res[4])\n",
    "        test_time.append(res[5])\n",
    "        \n",
    "    # Call to display the ROC curves of all the models\n",
    "    \n",
    "    Roc_curves()\n",
    "        \n",
    "    return ML_Model,acc_train,acc_test,kappa_list,train_time,test_time  \n",
    "\n"
   ]
  },
  {
   "cell_type": "code",
   "execution_count": 31,
   "metadata": {},
   "outputs": [
    {
     "name": "stdout",
     "output_type": "stream",
     "text": [
      "\n",
      "---------- Logistic Regression ----------\n",
      "\n",
      "Classification Report:\n",
      "               precision    recall  f1-score   support\n",
      "\n",
      "           0       0.80      0.80      0.80      9270\n",
      "           1       0.80      0.80      0.80      9345\n",
      "\n",
      "    accuracy                           0.80     18615\n",
      "   macro avg       0.80      0.80      0.80     18615\n",
      "weighted avg       0.80      0.80      0.80     18615\n",
      "\n",
      "\n",
      "confusion matrix:\n",
      " <sklearn.metrics._plot.confusion_matrix.ConfusionMatrixDisplay object at 0x7fb78805ebb0>\n",
      "\n",
      "---------- Naive Bayes ----------\n",
      "\n",
      "Classification Report:\n",
      "               precision    recall  f1-score   support\n",
      "\n",
      "           0       0.80      0.81      0.80      9270\n",
      "           1       0.81      0.80      0.80      9345\n",
      "\n",
      "    accuracy                           0.80     18615\n",
      "   macro avg       0.80      0.80      0.80     18615\n",
      "weighted avg       0.80      0.80      0.80     18615\n",
      "\n",
      "\n",
      "confusion matrix:\n",
      " <sklearn.metrics._plot.confusion_matrix.ConfusionMatrixDisplay object at 0x7fb7ae3e6d00>\n",
      "\n",
      "---------- SVM ----------\n",
      "\n",
      "Classification Report:\n",
      "               precision    recall  f1-score   support\n",
      "\n",
      "           0       0.80      0.86      0.83      9270\n",
      "           1       0.85      0.79      0.82      9345\n",
      "\n",
      "    accuracy                           0.82     18615\n",
      "   macro avg       0.83      0.82      0.82     18615\n",
      "weighted avg       0.83      0.82      0.82     18615\n",
      "\n",
      "\n",
      "confusion matrix:\n",
      " <sklearn.metrics._plot.confusion_matrix.ConfusionMatrixDisplay object at 0x7fb770384f10>\n",
      "\n",
      "---------- Decision Tree ----------\n",
      "\n",
      "Classification Report :\n",
      "               precision    recall  f1-score   support\n",
      "\n",
      "           0       0.81      0.85      0.83      9270\n",
      "           1       0.84      0.80      0.82      9345\n",
      "\n",
      "    accuracy                           0.82     18615\n",
      "   macro avg       0.82      0.82      0.82     18615\n",
      "weighted avg       0.82      0.82      0.82     18615\n",
      "\n",
      "\n",
      "Confusion matrix:\n",
      " <sklearn.metrics._plot.confusion_matrix.ConfusionMatrixDisplay object at 0x7fb788057eb0>\n",
      "\n",
      "---------- Random Forest ----------\n",
      "\n",
      "Classification Report:\n",
      "               precision    recall  f1-score   support\n",
      "\n",
      "           0       0.80      0.86      0.83      9270\n",
      "           1       0.85      0.79      0.82      9345\n",
      "\n",
      "    accuracy                           0.82     18615\n",
      "   macro avg       0.83      0.82      0.82     18615\n",
      "weighted avg       0.83      0.82      0.82     18615\n",
      "\n",
      "\n",
      "confusion matrix:\n",
      " <sklearn.metrics._plot.confusion_matrix.ConfusionMatrixDisplay object at 0x7fb750069dc0>\n",
      "\n",
      "---------- XGBoost ----------\n",
      "\n",
      "Classification Report:\n",
      "               precision    recall  f1-score   support\n",
      "\n",
      "           0       0.80      0.86      0.83      9270\n",
      "           1       0.85      0.79      0.82      9345\n",
      "\n",
      "    accuracy                           0.82     18615\n",
      "   macro avg       0.83      0.82      0.82     18615\n",
      "weighted avg       0.83      0.82      0.82     18615\n",
      "\n",
      "\n",
      "Confusion matrix:\n",
      " <sklearn.metrics._plot.confusion_matrix.ConfusionMatrixDisplay object at 0x7fb7af7d6850>\n",
      "\n",
      "---------- Neural Network ----------\n",
      "\n",
      "Classification Report:\n",
      "               precision    recall  f1-score   support\n",
      "\n",
      "           0       0.80      0.85      0.83      9270\n",
      "           1       0.85      0.79      0.82      9345\n",
      "\n",
      "    accuracy                           0.82     18615\n",
      "   macro avg       0.83      0.82      0.82     18615\n",
      "weighted avg       0.83      0.82      0.82     18615\n",
      "\n",
      "\n",
      "confusion matrix:\n",
      " <sklearn.metrics._plot.confusion_matrix.ConfusionMatrixDisplay object at 0x7fb728013d00>\n"
     ]
    },
    {
     "data": {
      "image/png": "[encoded data removed]",
      "text/plain": [
       "<Figure size 432x288 with 2 Axes>"
      ]
     },
     "metadata": {
      "needs_background": "light"
     },
     "output_type": "display_data"
    },
    {
     "data": {
      "image/png": "[encoded data removed]",
      "text/plain": [
       "<Figure size 432x288 with 1 Axes>"
      ]
     },
     "metadata": {
      "needs_background": "light"
     },
     "output_type": "display_data"
    },
    {
     "data": {
      "image/png": "[encoded data removed]",
      "text/plain": [
       "<Figure size 432x288 with 2 Axes>"
      ]
     },
     "metadata": {
      "needs_background": "light"
     },
     "output_type": "display_data"
    },
    {
     "data": {
      "image/png": "[encoded data removed]",
      "text/plain": [
       "<Figure size 432x288 with 1 Axes>"
      ]
     },
     "metadata": {
      "needs_background": "light"
     },
     "output_type": "display_data"
    },
    {
     "data": {
      "image/png": "[encoded data removed]",
      "text/plain": [
       "<Figure size 432x288 with 2 Axes>"
      ]
     },
     "metadata": {
      "needs_background": "light"
     },
     "output_type": "display_data"
    },
    {
     "data": {
      "image/png": "[encoded data removed]",
      "text/plain": [
       "<Figure size 432x288 with 1 Axes>"
      ]
     },
     "metadata": {
      "needs_background": "light"
     },
     "output_type": "display_data"
    },
    {
     "data": {
      "image/png": "[encoded data removed]",
      "text/plain": [
       "<Figure size 432x288 with 2 Axes>"
      ]
     },
     "metadata": {
      "needs_background": "light"
     },
     "output_type": "display_data"
    },
    {
     "data": {
      "image/png": "[encoded data removed]",
      "text/plain": [
       "<Figure size 432x288 with 1 Axes>"
      ]
     },
     "metadata": {
      "needs_background": "light"
     },
     "output_type": "display_data"
    },
    {
     "data": {
      "image/png": "[encoded data removed]",
      "text/plain": [
       "<Figure size 432x288 with 2 Axes>"
      ]
     },
     "metadata": {
      "needs_background": "light"
     },
     "output_type": "display_data"
    },
    {
     "data": {
      "image/png": "[encoded data removed]",
      "text/plain": [
       "<Figure size 432x288 with 1 Axes>"
      ]
     },
     "metadata": {
      "needs_background": "light"
     },
     "output_type": "display_data"
    },
    {
     "data": {
      "image/png": "[encoded data removed]",
      "text/plain": [
       "<Figure size 432x288 with 2 Axes>"
      ]
     },
     "metadata": {
      "needs_background": "light"
     },
     "output_type": "display_data"
    },
    {
     "data": {
      "image/png": "[encoded data removed]",
      "text/plain": [
       "<Figure size 432x288 with 1 Axes>"
      ]
     },
     "metadata": {
      "needs_background": "light"
     },
     "output_type": "display_data"
    },
    {
     "data": {
      "image/png": "[encoded data removed]",
      "text/plain": [
       "<Figure size 432x288 with 2 Axes>"
      ]
     },
     "metadata": {
      "needs_background": "light"
     },
     "output_type": "display_data"
    },
    {
     "data": {
      "image/png": "[encoded data removed]",
      "text/plain": [
       "<Figure size 432x288 with 1 Axes>"
      ]
     },
     "metadata": {
      "needs_background": "light"
     },
     "output_type": "display_data"
    },
    {
     "data": {
      "image/png": "[encoded data removed]",
      "text/plain": [
       "<Figure size 432x288 with 1 Axes>"
      ]
     },
     "metadata": {
      "needs_background": "light"
     },
     "output_type": "display_data"
    },
    {
     "data": {
      "text/html": [
       "<div>\n",
       "<style scoped>\n",
       "    .dataframe tbody tr th:only-of-type {\n",
       "        vertical-align: middle;\n",
       "    }\n",
       "\n",
       "    .dataframe tbody tr th {\n",
       "        vertical-align: top;\n",
       "    }\n",
       "\n",
       "    .dataframe thead th {\n",
       "        text-align: right;\n",
       "    }\n",
       "</style>\n",
       "<table border=\"1\" class=\"dataframe\">\n",
       "  <thead>\n",
       "    <tr style=\"text-align: right;\">\n",
       "      <th></th>\n",
       "      <th>ML Model</th>\n",
       "      <th>Train Accuracy</th>\n",
       "      <th>Test Accuracy</th>\n",
       "      <th>Kappa Score</th>\n",
       "      <th>Training Time</th>\n",
       "      <th>Testing Time</th>\n",
       "    </tr>\n",
       "  </thead>\n",
       "  <tbody>\n",
       "    <tr>\n",
       "      <th>0</th>\n",
       "      <td>Logistic Regression</td>\n",
       "      <td>0.796731</td>\n",
       "      <td>0.801182</td>\n",
       "      <td>0.602348</td>\n",
       "      <td>0.096612</td>\n",
       "      <td>0.001092</td>\n",
       "    </tr>\n",
       "    <tr>\n",
       "      <th>1</th>\n",
       "      <td>Naive Bayes</td>\n",
       "      <td>0.800115</td>\n",
       "      <td>0.803384</td>\n",
       "      <td>0.606783</td>\n",
       "      <td>0.007864</td>\n",
       "      <td>0.001595</td>\n",
       "    </tr>\n",
       "    <tr>\n",
       "      <th>2</th>\n",
       "      <td>SVM</td>\n",
       "      <td>0.820076</td>\n",
       "      <td>0.823959</td>\n",
       "      <td>0.648002</td>\n",
       "      <td>27.333839</td>\n",
       "      <td>10.009290</td>\n",
       "    </tr>\n",
       "    <tr>\n",
       "      <th>3</th>\n",
       "      <td>Decision Tree</td>\n",
       "      <td>0.818948</td>\n",
       "      <td>0.822133</td>\n",
       "      <td>0.644332</td>\n",
       "      <td>0.009691</td>\n",
       "      <td>0.000905</td>\n",
       "    </tr>\n",
       "    <tr>\n",
       "      <th>4</th>\n",
       "      <td>Random Forest</td>\n",
       "      <td>0.820076</td>\n",
       "      <td>0.823959</td>\n",
       "      <td>0.648003</td>\n",
       "      <td>0.609391</td>\n",
       "      <td>0.112813</td>\n",
       "    </tr>\n",
       "    <tr>\n",
       "      <th>5</th>\n",
       "      <td>XGBoost</td>\n",
       "      <td>0.820076</td>\n",
       "      <td>0.823959</td>\n",
       "      <td>0.648003</td>\n",
       "      <td>1.067929</td>\n",
       "      <td>0.011160</td>\n",
       "    </tr>\n",
       "    <tr>\n",
       "      <th>6</th>\n",
       "      <td>Neural Network</td>\n",
       "      <td>0.819754</td>\n",
       "      <td>0.823852</td>\n",
       "      <td>0.647786</td>\n",
       "      <td>5.041600</td>\n",
       "      <td>0.010224</td>\n",
       "    </tr>\n",
       "  </tbody>\n",
       "</table>\n",
       "</div>"
      ],
      "text/plain": [
       "              ML Model  Train Accuracy  Test Accuracy  Kappa Score  \\\n",
       "0  Logistic Regression        0.796731       0.801182     0.602348   \n",
       "1          Naive Bayes        0.800115       0.803384     0.606783   \n",
       "2                  SVM        0.820076       0.823959     0.648002   \n",
       "3        Decision Tree        0.818948       0.822133     0.644332   \n",
       "4        Random Forest        0.820076       0.823959     0.648003   \n",
       "5              XGBoost        0.820076       0.823959     0.648003   \n",
       "6       Neural Network        0.819754       0.823852     0.647786   \n",
       "\n",
       "   Training Time  Testing Time  \n",
       "0       0.096612      0.001092  \n",
       "1       0.007864      0.001595  \n",
       "2      27.333839     10.009290  \n",
       "3       0.009691      0.000905  \n",
       "4       0.609391      0.112813  \n",
       "5       1.067929      0.011160  \n",
       "6       5.041600      0.010224  "
      ]
     },
     "execution_count": 31,
     "metadata": {},
     "output_type": "execute_result"
    }
   ],
   "source": [
    "# Invoke the call models function to display the model performance statistics\n",
    "\n",
    "ML_Model,acc_train,acc_test,kappa_list,train_time,test_time = call_ml_models()\n",
    "\n",
    "# Create the dataframe with the consolidated accuracies and timings of all models\n",
    "\n",
    "results = pd.DataFrame({ 'ML Model': ML_Model, \n",
    "    'Train Accuracy': acc_train,\n",
    "    'Test Accuracy': acc_test, 'Kappa Score': kappa_list,\n",
    "    'Training Time': train_time, 'Testing Time': test_time})\n",
    "\n",
    "results # Display results"
   ]
  },
  {
   "cell_type": "markdown",
   "metadata": {},
   "source": [
    "## Hyper parameter tunning"
   ]
  },
  {
   "cell_type": "code",
   "execution_count": 37,
   "metadata": {},
   "outputs": [],
   "source": [
    "# Assign the XGBoost parameters to the parameter grid \n",
    "\n",
    "param_grid = [\n",
    "  {\n",
    "    'n_estimators': [200, 500],\n",
    "    'max_depth': [3, 4, 5]\n",
    "  }\n",
    "]\n",
    "\n",
    "scoring = {'AUC':'roc_auc', 'Accuracy':make_scorer(accuracy_score)}"
   ]
  },
  {
   "cell_type": "code",
   "execution_count": 46,
   "metadata": {},
   "outputs": [
    {
     "name": "stdout",
     "output_type": "stream",
     "text": [
      "Fitting 5 folds for each of 6 candidates, totalling 30 fits\n"
     ]
    },
    {
     "data": {
      "text/plain": [
       "GridSearchCV(cv=5,\n",
       "             estimator=XGBClassifier(base_score=0.5, booster='gbtree',\n",
       "                                     colsample_bylevel=1, colsample_bynode=1,\n",
       "                                     colsample_bytree=1, gamma=0, gpu_id=-1,\n",
       "                                     importance_type='gain',\n",
       "                                     interaction_constraints='',\n",
       "                                     learning_rate=0.300000012,\n",
       "                                     max_delta_step=0, max_depth=6,\n",
       "                                     min_child_weight=1, missing=nan,\n",
       "                                     monotone_constraints='()',\n",
       "                                     n_estimators=100, n_jobs=0,\n",
       "                                     num_parallel_tree=1, random_state=100,\n",
       "                                     reg_alpha=0, reg_lambda=1,\n",
       "                                     scale_pos_weight=1, subsample=1,\n",
       "                                     tree_method='exact', validate_parameters=1,\n",
       "                                     verbosity=None),\n",
       "             n_jobs=-1,\n",
       "             param_grid=[{'max_depth': [3, 4, 5], 'n_estimators': [200, 500]}],\n",
       "             refit='AUC',\n",
       "             scoring={'AUC': 'roc_auc',\n",
       "                      'Accuracy': make_scorer(accuracy_score)},\n",
       "             verbose=1)"
      ]
     },
     "execution_count": 46,
     "metadata": {},
     "output_type": "execute_result"
    }
   ],
   "source": [
    "# Using Grid search to find the hyper parameters of XGBoost\n",
    "\n",
    "XGB_grid = GridSearchCV(XGB_model,param_grid=param_grid,cv=5,scoring=scoring,refit='AUC',verbose=1,n_jobs=-1)\n",
    "XGB_grid.fit(X_train, y_train)"
   ]
  },
  {
   "cell_type": "code",
   "execution_count": 47,
   "metadata": {},
   "outputs": [
    {
     "name": "stdout",
     "output_type": "stream",
     "text": [
      "Kappa:  0.6480026831986325\n",
      "Train accuracy:  0.8200759755957178\n",
      "Test accuracy:  0.8239591727101799\n"
     ]
    }
   ],
   "source": [
    "# Check for accuracy changes using the fine tuned XGB Model parameters \n",
    "XGB_model_best = XGB_grid.best_estimator_\n",
    "\n",
    "XGB_model_best.fit(X_train, y_train)\n",
    "pred_RF_test = XGB_model_best.predict(X_test)\n",
    "pred_RF_train = XGB_model_best.predict(X_train)\n",
    "\n",
    "kappa_rf = cohen_kappa_score(y_test, pred_RF_test)\n",
    "train_acc = accuracy_score(y_train,pred_RF_train)\n",
    "test_acc = accuracy_score(y_test,pred_RF_test)\n",
    "\n",
    "print('Kappa: ',kappa_rf)\n",
    "print('Train accuracy: ',train_acc)\n",
    "print('Test accuracy: ',test_acc)"
   ]
  },
  {
   "cell_type": "markdown",
   "metadata": {},
   "source": [
    "## Save the model"
   ]
  },
  {
   "cell_type": "code",
   "execution_count": 42,
   "metadata": {},
   "outputs": [],
   "source": [
    "def save_model(model):\n",
    "    \n",
    "    # Function to save the required model using pickle\n",
    "    \n",
    "    with open('phishing_classifier.pkl', 'wb') as f:\n",
    "        pickle.dump(model, f, -1)\n",
    "        f.close()\n",
    "\n",
    "\n",
    "        \n",
    "save_model(XGB_model_best)"
   ]
  },
  {
   "cell_type": "markdown",
   "metadata": {},
   "source": [
    "## Perform the classification using the saved model"
   ]
  },
  {
   "cell_type": "code",
   "execution_count": 43,
   "metadata": {},
   "outputs": [],
   "source": [
    "classification = PredictURL()"
   ]
  },
  {
   "cell_type": "code",
   "execution_count": 45,
   "metadata": {},
   "outputs": [
    {
     "name": "stdout",
     "output_type": "stream",
     "text": [
      "CPU times: user 16.1 ms, sys: 16.9 ms, total: 33 ms\n",
      "Wall time: 223 ms\n"
     ]
    },
    {
     "data": {
      "text/plain": [
       "'Given website is a phishing site'"
      ]
     },
     "execution_count": 45,
     "metadata": {},
     "output_type": "execute_result"
    }
   ],
   "source": [
    "%%time\n",
    "#classification.predict('https://www.sjsu.okta.com')\n",
    "classification.predict('sjsu.com')"
   ]
  },
  {
   "cell_type": "code",
   "execution_count": null,
   "metadata": {},
   "outputs": [],
   "source": []
  }
 ],
 "metadata": {
  "kernelspec": {
   "display_name": "Python 3",
   "language": "python",
   "name": "python3"
  },
  "language_info": {
   "codemirror_mode": {
    "name": "ipython",
    "version": 3
   },
   "file_extension": ".py",
   "mimetype": "text/x-python",
   "name": "python",
   "nbconvert_exporter": "python",
   "pygments_lexer": "ipython3",
   "version": "3.8.5"
  }
 },
 "nbformat": 4,
 "nbformat_minor": 4
}
